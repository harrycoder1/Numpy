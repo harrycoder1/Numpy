{
 "cells": [
  {
   "cell_type": "markdown",
   "metadata": {},
   "source": [
    "# Itereting the Numpy array"
   ]
  },
  {
   "cell_type": "code",
   "execution_count": 4,
   "metadata": {},
   "outputs": [
    {
     "name": "stdout",
     "output_type": "stream",
     "text": [
      "1\t2\t3\t4\t5\t"
     ]
    }
   ],
   "source": [
    "import numpy as np\n",
    "\n",
    "x= np.array([1,2,3,4,5])\n",
    "for i in x:\n",
    "    print(i, end=\"\\t\")"
   ]
  },
  {
   "cell_type": "code",
   "execution_count": 12,
   "metadata": {},
   "outputs": [
    {
     "name": "stdout",
     "output_type": "stream",
     "text": [
      "1\t2\t3\t4\t5\t1\t2\t3\t4\t5\t1\t2\t3\t4\t5\t"
     ]
    }
   ],
   "source": [
    "x1= np.array([[1,2,3,4,5] ,[1,2,3,4,5],[1,2,3,4,5]])\n",
    "for i in x1:\n",
    "    for j in i :\n",
    "     print(j, end=\"\\t\")"
   ]
  },
  {
   "cell_type": "code",
   "execution_count": 14,
   "metadata": {},
   "outputs": [
    {
     "name": "stdout",
     "output_type": "stream",
     "text": [
      "[[[1 4]\n",
      "  [1 2]]\n",
      "\n",
      " [[1 4]\n",
      "  [1 2]]]\n",
      "1 4 \t1 2 \t\n",
      "1 4 \t1 2 \t\n"
     ]
    }
   ],
   "source": [
    "x1= np.array([[[1,4] ,[1,2,]],[[1,4] ,[1,2,]]])\n",
    "print(x1)\n",
    "for i in x1 :\n",
    "    for j in i :\n",
    "        for k in j :\n",
    "            print(k ,end=\" \")\n",
    "        print(end=\"\\t\")\n",
    "    print(end=\"\\n\")"
   ]
  },
  {
   "cell_type": "markdown",
   "metadata": {},
   "source": [
    "# nditer() --> use for iterate the array"
   ]
  },
  {
   "cell_type": "code",
   "execution_count": 18,
   "metadata": {},
   "outputs": [
    {
     "name": "stdout",
     "output_type": "stream",
     "text": [
      "1.0\n",
      "4.0\n",
      "1.0\n",
      "2.0\n",
      "1.0\n",
      "4.0\n",
      "1.0\n",
      "2.0\n"
     ]
    }
   ],
   "source": [
    "x1= np.array([[[1,4] ,[1,2,]],[[1,4] ,[1,2,]]])\n",
    "\n",
    "# use the function here for iterating functions\n",
    "for i  in np.nditer(x1 ,flags=['buffered'] , op_dtypes=[\"S\"]):\n",
    "    print(i)"
   ]
  },
  {
   "cell_type": "code",
   "execution_count": 20,
   "metadata": {},
   "outputs": [
    {
     "name": "stdout",
     "output_type": "stream",
     "text": [
      "(0, 0, 0) :  1\n",
      "(0, 0, 1) :  4\n",
      "(0, 1, 0) :  1\n",
      "(0, 1, 1) :  2\n",
      "(1, 0, 0) :  1\n",
      "(1, 0, 1) :  4\n",
      "(1, 1, 0) :  1\n",
      "(1, 1, 1) :  2\n"
     ]
    }
   ],
   "source": [
    "x1= np.array([[[1,4] ,[1,2,]],[[1,4] ,[1,2,]]])\n",
    "\n",
    "# use the function here for iterating functions\n",
    "for i,data  in np.ndenumerate(x1 ):\n",
    "    print(i ,\": \" , data)"
   ]
  }
 ],
 "metadata": {
  "kernelspec": {
   "display_name": "Python 3",
   "language": "python",
   "name": "python3"
  },
  "language_info": {
   "codemirror_mode": {
    "name": "ipython",
    "version": 3
   },
   "file_extension": ".py",
   "mimetype": "text/x-python",
   "name": "python",
   "nbconvert_exporter": "python",
   "pygments_lexer": "ipython3",
   "version": "3.10.6"
  },
  "orig_nbformat": 4
 },
 "nbformat": 4,
 "nbformat_minor": 2
}
