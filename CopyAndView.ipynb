{
 "cells": [
  {
   "cell_type": "markdown",
   "metadata": {},
   "source": [
    "# Copy vs View"
   ]
  },
  {
   "cell_type": "code",
   "execution_count": 1,
   "metadata": {},
   "outputs": [
    {
     "name": "stdout",
     "output_type": "stream",
     "text": [
      "var  [ 12   2 100]\n",
      "copy  [12  2  4]\n"
     ]
    }
   ],
   "source": [
    "import numpy as np   \n",
    "var  = np.array([12,2,4])\n",
    "co = var.copy()\n",
    "var[2] =100\n",
    "print(\"var \" , var)\n",
    "print(\"copy \",co )"
   ]
  },
  {
   "cell_type": "code",
   "execution_count": 2,
   "metadata": {},
   "outputs": [
    {
     "name": "stdout",
     "output_type": "stream",
     "text": [
      "var [ 12   2 300]\n",
      "View  [ 12   2 300]\n"
     ]
    }
   ],
   "source": [
    "var  = np.array([12,2,4])\n",
    "vi = var.view()\n",
    "var[2]=300\n",
    "print(\"var\" ,var)\n",
    "print(\"View \" , vi)"
   ]
  }
 ],
 "metadata": {
  "kernelspec": {
   "display_name": "Python 3",
   "language": "python",
   "name": "python3"
  },
  "language_info": {
   "codemirror_mode": {
    "name": "ipython",
    "version": 3
   },
   "file_extension": ".py",
   "mimetype": "text/x-python",
   "name": "python",
   "nbconvert_exporter": "python",
   "pygments_lexer": "ipython3",
   "version": "3.10.6"
  },
  "orig_nbformat": 4
 },
 "nbformat": 4,
 "nbformat_minor": 2
}
