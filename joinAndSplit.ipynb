{
 "cells": [
  {
   "cell_type": "markdown",
   "metadata": {},
   "source": [
    "# Join And Split"
   ]
  },
  {
   "cell_type": "code",
   "execution_count": 8,
   "metadata": {},
   "outputs": [
    {
     "name": "stdout",
     "output_type": "stream",
     "text": [
      "[[1 2 4 5]\n",
      " [3 4 6 7]]\n",
      "[[1. 2.]\n",
      " [3. 4.]\n",
      " [4. 5.]\n",
      " [6. 7.]]\n"
     ]
    }
   ],
   "source": [
    "import numpy as np \n",
    "\n",
    "v1 = np.array([[1,2],[3,4]])\n",
    "v2= np.array([[4,5],[6,7]])\n",
    "ar = np.concatenate((v1,v2),axis=1)\n",
    "ar2 = np.concatenate((v1,v2),axis=0,dtype=\"float\")\n",
    "print(ar)\n",
    "print(ar2)"
   ]
  },
  {
   "cell_type": "code",
   "execution_count": 15,
   "metadata": {},
   "outputs": [
    {
     "name": "stdout",
     "output_type": "stream",
     "text": [
      "[[[1 2]\n",
      "  [3 4]]\n",
      "\n",
      " [[4 5]\n",
      "  [6 7]]]\n",
      "horizontal \n",
      "  [[1 2 4 5]\n",
      " [3 4 6 7]]\n",
      "vertical \n",
      " [[1 2]\n",
      " [3 4]\n",
      " [4 5]\n",
      " [6 7]]\n",
      "height \n",
      " [[[1 4]\n",
      "  [2 5]]\n",
      "\n",
      " [[3 6]\n",
      "  [4 7]]]\n"
     ]
    }
   ],
   "source": [
    "v1 = np.array([[1,2],[3,4]])\n",
    "v2= np.array([[4,5],[6,7]])\n",
    "ar = np.stack((v1,v2))\n",
    "ar2 = np.hstack((v1,v2))\n",
    "ar3 = np.vstack((v1,v2))\n",
    "ar4 = np.dstack((v1,v2))\n",
    "print(ar)\n",
    "print(\"horizontal \\n \" , ar2 )\n",
    "print(\"vertical \\n\" , ar3 )\n",
    "print(\"height \\n\" , ar4 )"
   ]
  },
  {
   "cell_type": "markdown",
   "metadata": {},
   "source": [
    "# SPlits"
   ]
  },
  {
   "cell_type": "code",
   "execution_count": 19,
   "metadata": {},
   "outputs": [
    {
     "name": "stdout",
     "output_type": "stream",
     "text": [
      "[1 2 4 5 6 7]\n",
      "[array([1, 2]), array([4, 5]), array([6, 7])]\n",
      "<class 'list'>\n",
      "[1 2]\n"
     ]
    }
   ],
   "source": [
    "var = np.array([1,2,4,5,6,7])\n",
    "\n",
    "print(var)\n",
    "ar = np.split(var ,3)\n",
    "print(ar)\n",
    "print(type(ar))\n",
    "print(ar[0])"
   ]
  },
  {
   "cell_type": "code",
   "execution_count": 26,
   "metadata": {},
   "outputs": [
    {
     "name": "stdout",
     "output_type": "stream",
     "text": [
      "[[1 2]\n",
      " [4 5]\n",
      " [6 7]]\n",
      "[array([[1, 2]]), array([[4, 5]]), array([[6, 7]])]\n",
      "<class 'list'>\n",
      "[[1 2]]\n"
     ]
    }
   ],
   "source": [
    "var = np.array([[1,2],[4,5],[6,7]] )\n",
    "\n",
    "print(var)\n",
    "ar = np.split(var ,3 , axis=0)\n",
    "print(ar)\n",
    "print(type(ar))\n",
    "print(ar[0])"
   ]
  }
 ],
 "metadata": {
  "kernelspec": {
   "display_name": "Python 3",
   "language": "python",
   "name": "python3"
  },
  "language_info": {
   "codemirror_mode": {
    "name": "ipython",
    "version": 3
   },
   "file_extension": ".py",
   "mimetype": "text/x-python",
   "name": "python",
   "nbconvert_exporter": "python",
   "pygments_lexer": "ipython3",
   "version": "3.10.6"
  },
  "orig_nbformat": 4
 },
 "nbformat": 4,
 "nbformat_minor": 2
}
