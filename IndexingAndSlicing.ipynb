{
 "cells": [
  {
   "cell_type": "markdown",
   "metadata": {},
   "source": [
    "# Indexing "
   ]
  },
  {
   "cell_type": "code",
   "execution_count": 46,
   "metadata": {},
   "outputs": [
    {
     "name": "stdout",
     "output_type": "stream",
     "text": [
      "5\n",
      "6\n",
      "4\n"
     ]
    }
   ],
   "source": [
    "import numpy as np\n",
    "var = np.array([3,4,5,6])\n",
    "print(var[2])\n",
    "print(var[-1])\n",
    "print(var[-3])"
   ]
  },
  {
   "cell_type": "code",
   "execution_count": 47,
   "metadata": {},
   "outputs": [
    {
     "name": "stdout",
     "output_type": "stream",
     "text": [
      "2\n",
      "[[1 3 4]\n",
      " [4 5 6]]\n",
      "3\n",
      "1\n"
     ]
    }
   ],
   "source": [
    "var2 =np.array([[1,3,4],[4,5,6]])\n",
    "print(var2.ndim)\n",
    "print(var2)\n",
    "\n",
    "print(var2[0,1])\n",
    "print(var2[0,0])"
   ]
  },
  {
   "cell_type": "code",
   "execution_count": 48,
   "metadata": {},
   "outputs": [
    {
     "name": "stdout",
     "output_type": "stream",
     "text": [
      "3\n",
      "7\n"
     ]
    }
   ],
   "source": [
    "var3 =np.array([[[1,3],[2,7]]])\n",
    "print(var3.ndim)\n",
    "\n",
    "print(var3[0,1,1])"
   ]
  },
  {
   "cell_type": "markdown",
   "metadata": {},
   "source": [
    "# slicing"
   ]
  },
  {
   "cell_type": "code",
   "execution_count": 49,
   "metadata": {},
   "outputs": [
    {
     "name": "stdout",
     "output_type": "stream",
     "text": [
      "[ 5  6  7 44 33 55]\n",
      "[ 6  7 44 33 55]\n",
      "[  7  44  33  55  63 332]\n",
      "[1 3 5 6 7]\n",
      "[ 1  5  7 33 63]\n",
      "[ 3  7 55]\n",
      "10\n"
     ]
    }
   ],
   "source": [
    "\n",
    "v = np.array([1,3,5,6,7,44,33,55,63,332])\n",
    "#             0,1,2,3,4,5 ,6, 7 ,8, 9\n",
    "print(v[2:8])\n",
    "print(v[-7:-2])\n",
    "print(v[4:])\n",
    "print(v[:5])\n",
    "print(v[::2]) #double jump fetch the data\n",
    "print(v[1:8:3])\n",
    "print(len(v)) #length\n"
   ]
  },
  {
   "cell_type": "markdown",
   "metadata": {},
   "source": [
    "for 2D array slicing"
   ]
  }
 ],
 "metadata": {
  "kernelspec": {
   "display_name": "Python 3",
   "language": "python",
   "name": "python3"
  },
  "language_info": {
   "codemirror_mode": {
    "name": "ipython",
    "version": 3
   },
   "file_extension": ".py",
   "mimetype": "text/x-python",
   "name": "python",
   "nbconvert_exporter": "python",
   "pygments_lexer": "ipython3",
   "version": "3.10.6"
  },
  "orig_nbformat": 4
 },
 "nbformat": 4,
 "nbformat_minor": 2
}
