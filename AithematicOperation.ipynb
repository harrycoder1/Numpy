{
 "cells": [
  {
   "cell_type": "markdown",
   "metadata": {},
   "source": [
    "# Airthematic Operation in Array"
   ]
  },
  {
   "cell_type": "code",
   "execution_count": 1,
   "metadata": {},
   "outputs": [
    {
     "name": "stdout",
     "output_type": "stream",
     "text": [
      "[3 4 5 6]\n"
     ]
    }
   ],
   "source": [
    "import numpy as np \n",
    "var =np.array([1,2,3,4])\n",
    "varadd = var+2\n",
    "print(varadd)"
   ]
  },
  {
   "cell_type": "code",
   "execution_count": 2,
   "metadata": {},
   "outputs": [
    {
     "name": "stdout",
     "output_type": "stream",
     "text": [
      "[2 4 6 8]\n"
     ]
    }
   ],
   "source": [
    "var1 =np.array([1,2,3,4])\n",
    "var2 =np.array([1,2,3,4])\n",
    "varadd =var1+var2\n",
    "print(varadd)"
   ]
  },
  {
   "cell_type": "code",
   "execution_count": 3,
   "metadata": {},
   "outputs": [
    {
     "name": "stdout",
     "output_type": "stream",
     "text": [
      "[0 0 0 0]\n"
     ]
    }
   ],
   "source": [
    "var1 =np.array([1,2,3,4])\n",
    "var2 =np.array([1,2,3,4])\n",
    "varadd =var1-var2\n",
    "print(varadd)"
   ]
  },
  {
   "cell_type": "code",
   "execution_count": 4,
   "metadata": {},
   "outputs": [
    {
     "name": "stdout",
     "output_type": "stream",
     "text": [
      "[ 1  4  9 16]\n"
     ]
    }
   ],
   "source": [
    "var1 =np.array([1,2,3,4])\n",
    "var2 =np.array([1,2,3,4])\n",
    "varadd =var1*var2\n",
    "print(varadd)"
   ]
  },
  {
   "cell_type": "code",
   "execution_count": 7,
   "metadata": {},
   "outputs": [
    {
     "name": "stdout",
     "output_type": "stream",
     "text": [
      "[1. 1. 1. 1.]\n"
     ]
    }
   ],
   "source": [
    "vvar1 =np.array([1,2,3,4])\n",
    "var2 =np.array([1,2,3,4])\n",
    "varadd =var1/var2\n",
    "print(varadd)"
   ]
  },
  {
   "cell_type": "code",
   "execution_count": 8,
   "metadata": {},
   "outputs": [
    {
     "name": "stdout",
     "output_type": "stream",
     "text": [
      "[0 0 0 0]\n"
     ]
    }
   ],
   "source": [
    "var1 =np.array([1,2,3,4])\n",
    "var2 =np.array([1,2,3,4])\n",
    "varadd =var1%var2\n",
    "print(varadd)"
   ]
  },
  {
   "cell_type": "markdown",
   "metadata": {},
   "source": [
    "use numpy function for perform the operation"
   ]
  },
  {
   "cell_type": "markdown",
   "metadata": {},
   "source": [
    "add()"
   ]
  },
  {
   "cell_type": "code",
   "execution_count": 9,
   "metadata": {},
   "outputs": [
    {
     "name": "stdout",
     "output_type": "stream",
     "text": [
      "[2 4 6 8]\n"
     ]
    }
   ],
   "source": [
    "var1 =np.array([1,2,3,4])\n",
    "var2 =np.array([1,2,3,4])\n",
    "varadd =np.add(var1,var2)\n",
    "print(varadd)"
   ]
  },
  {
   "cell_type": "markdown",
   "metadata": {},
   "source": [
    "# 2D Array"
   ]
  },
  {
   "cell_type": "code",
   "execution_count": 10,
   "metadata": {},
   "outputs": [
    {
     "name": "stdout",
     "output_type": "stream",
     "text": [
      "[[2 4 6 8]\n",
      " [2 4 6 8]\n",
      " [2 4 6 8]]\n"
     ]
    }
   ],
   "source": [
    "var1 =np.array([[1,2,3,4],[1,2,3,4],[1,2,3,4]])\n",
    "var2 =np.array([[1,2,3,4],[1,2,3,4],[1,2,3,4]])\n",
    "varadd = var1+var2\n",
    "print(varadd)"
   ]
  },
  {
   "cell_type": "code",
   "execution_count": 13,
   "metadata": {},
   "outputs": [
    {
     "name": "stdout",
     "output_type": "stream",
     "text": [
      "[[ 1  4  9 16]\n",
      " [ 1  4  9 16]\n",
      " [ 1  4  9 16]]\n"
     ]
    }
   ],
   "source": [
    "var1 =np.array([[1,2,3,4],[1,2,3,4],[1,2,3,4]])\n",
    "var2 =np.array([[1,2,3,4],[1,2,3,4],[1,2,3,4]])\n",
    "varadd = np.multiply(var1,var2)\n",
    "print(varadd)"
   ]
  },
  {
   "cell_type": "markdown",
   "metadata": {},
   "source": [
    "recipocal"
   ]
  },
  {
   "cell_type": "code",
   "execution_count": 14,
   "metadata": {},
   "outputs": [
    {
     "name": "stdout",
     "output_type": "stream",
     "text": [
      "[[1 0 0 0]\n",
      " [1 0 0 0]\n",
      " [1 0 0 0]]\n"
     ]
    }
   ],
   "source": [
    "var1 =np.array([[1,2,3,4],[1,2,3,4],[1,2,3,4]])\n",
    "varreci = np.reciprocal(var1)\n",
    "print(varreci)\n",
    "\n"
   ]
  },
  {
   "cell_type": "markdown",
   "metadata": {},
   "source": [
    "# Other Important Functions"
   ]
  },
  {
   "cell_type": "code",
   "execution_count": 24,
   "metadata": {},
   "outputs": [
    {
     "name": "stdout",
     "output_type": "stream",
     "text": [
      "0\n",
      "6\n",
      "5\n",
      "6\n",
      "[5 4 0 1 2 3 6 7]\n"
     ]
    }
   ],
   "source": [
    "a = np.array([2,3,4,5,1,0,6,6])\n",
    "minimun = np.min(a) #min\n",
    "maximum = np.max(a) #max\n",
    "print(minimun)\n",
    "print(maximum)\n",
    "print(np.argmin(a))\n",
    "print(np.argmax(a))\n",
    "# print(np.argpartition(a))\n",
    "print(np.argsort(a))"
   ]
  },
  {
   "cell_type": "code",
   "execution_count": 30,
   "metadata": {},
   "outputs": [
    {
     "name": "stdout",
     "output_type": "stream",
     "text": [
      "[1 2 2 4]\n",
      "[1 2]\n"
     ]
    }
   ],
   "source": [
    "a2 = np.array([[1,2,3,4],[3,5,2,6]])\n",
    "print(np.min(a2,axis=0 )) #give the minimun value according to the colum\n",
    "print(np.min(a2,axis=1 )) #give the minimun value according to the row"
   ]
  },
  {
   "cell_type": "markdown",
   "metadata": {},
   "source": [
    "squart"
   ]
  },
  {
   "cell_type": "code",
   "execution_count": 32,
   "metadata": {},
   "outputs": [
    {
     "name": "stdout",
     "output_type": "stream",
     "text": [
      "[1.41421356 1.73205081 2.         2.23606798 1.         0.\n",
      " 2.44948974 2.44948974]\n",
      "[ 4  9 16 25  1  0 36 36]\n"
     ]
    }
   ],
   "source": [
    "a = np.array([2,3,4,5,1,0,6,6])\n",
    "print(np.sqrt(a)) #square root of array element\n",
    "print(np.square(a))  #square  of array element"
   ]
  },
  {
   "cell_type": "markdown",
   "metadata": {},
   "source": [
    "sin , cos ,tan"
   ]
  },
  {
   "cell_type": "code",
   "execution_count": 35,
   "metadata": {},
   "outputs": [
    {
     "name": "stdout",
     "output_type": "stream",
     "text": [
      "[-0.98803162  0.90929743  0.14112001]\n",
      "[ 0.15425145 -0.41614684 -0.9899925 ]\n",
      "[-6.4053312  -2.18503986 -0.14254654]\n",
      "[5.34323729e+12 3.62686041e+00 1.00178749e+01]\n",
      "[5.34323729e+12 3.76219569e+00 1.00676620e+01]\n",
      "[1.         0.96402758 0.99505475]\n"
     ]
    }
   ],
   "source": [
    "var = np.array([1,2,3])\n",
    "print(np.sin(var))\n",
    "print(np.cos(var))\n",
    "print(np.tan(var))\n",
    "print(np.sinh(var))\n",
    "print(np.cosh(var))\n",
    "print(np.tanh(var))"
   ]
  },
  {
   "cell_type": "markdown",
   "metadata": {},
   "source": [
    "cumsum , cumproduct"
   ]
  },
  {
   "cell_type": "code",
   "execution_count": 38,
   "metadata": {},
   "outputs": [
    {
     "name": "stdout",
     "output_type": "stream",
     "text": [
      "[ 1  3  6 10]\n",
      "[ 1  2  6 24]\n",
      "[ 1  2  6 24]\n"
     ]
    }
   ],
   "source": [
    "var = np.array([1,2,3 ,4])\n",
    "print(np.cumsum(var))\n",
    "print(np.cumprod(var))\n",
    "print(np.cumproduct(var))"
   ]
  }
 ],
 "metadata": {
  "kernelspec": {
   "display_name": "Python 3",
   "language": "python",
   "name": "python3"
  },
  "language_info": {
   "codemirror_mode": {
    "name": "ipython",
    "version": 3
   },
   "file_extension": ".py",
   "mimetype": "text/x-python",
   "name": "python",
   "nbconvert_exporter": "python",
   "pygments_lexer": "ipython3",
   "version": "3.10.6"
  },
  "orig_nbformat": 4
 },
 "nbformat": 4,
 "nbformat_minor": 2
}
