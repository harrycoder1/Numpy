{
 "cells": [
  {
   "cell_type": "markdown",
   "metadata": {},
   "source": [
    "# DataType"
   ]
  },
  {
   "cell_type": "code",
   "execution_count": 3,
   "metadata": {},
   "outputs": [
    {
     "name": "stdout",
     "output_type": "stream",
     "text": [
      "Data Type  int32\n"
     ]
    }
   ],
   "source": [
    "import numpy as np \n",
    "var  = np.array([1,2,3,4,5,43423])\n",
    "# findin the data type of array element\n",
    "print(\"Data Type \", var.dtype)"
   ]
  },
  {
   "cell_type": "code",
   "execution_count": 4,
   "metadata": {},
   "outputs": [
    {
     "name": "stdout",
     "output_type": "stream",
     "text": [
      "Data type  float64\n"
     ]
    }
   ],
   "source": [
    "var2 = np.array([2.3,4.54,4/3])\n",
    "print(\"Data type \" ,var2.dtype )"
   ]
  },
  {
   "cell_type": "code",
   "execution_count": 7,
   "metadata": {},
   "outputs": [
    {
     "name": "stdout",
     "output_type": "stream",
     "text": [
      "Data Type  <U1\n"
     ]
    }
   ],
   "source": [
    "var3 = np.array(['w','e','w'])\n",
    "print(\"Data Type \" , var3.dtype)"
   ]
  },
  {
   "cell_type": "code",
   "execution_count": 8,
   "metadata": {},
   "outputs": [
    {
     "name": "stdout",
     "output_type": "stream",
     "text": [
      "Data Type  <U11\n"
     ]
    }
   ],
   "source": [
    "var4 = np.array([2,3,4,'e','haryy'])\n",
    "print(\"Data Type \", var4.dtype)"
   ]
  },
  {
   "cell_type": "markdown",
   "metadata": {},
   "source": [
    "# DataType Conversion in numpy"
   ]
  },
  {
   "cell_type": "code",
   "execution_count": 10,
   "metadata": {},
   "outputs": [
    {
     "name": "stdout",
     "output_type": "stream",
     "text": [
      "Data Type  int32\n",
      "Data Type  int8\n"
     ]
    }
   ],
   "source": [
    "x= np.array([2,3,4,54,5])\n",
    "print(\"Data Type \" , x.dtype)\n",
    "x= np.array([2,3,4,54,5] ,dtype=np.int8 )\n",
    "print(\"Data Type \" , x.dtype)\n"
   ]
  },
  {
   "cell_type": "code",
   "execution_count": 15,
   "metadata": {},
   "outputs": [
    {
     "name": "stdout",
     "output_type": "stream",
     "text": [
      "Data Type  int32\n",
      "Data Type  |S2\n",
      "[b'2' b'3' b'4' b'54' b'5']\n"
     ]
    }
   ],
   "source": [
    "x2= np.array([2,3,4,54,5])\n",
    "print(\"Data Type \" , x2.dtype)\n",
    "x2= np.array([2,3,4,54,5] ,dtype=\"S\")\n",
    "print(\"Data Type \" , x2.dtype)\n",
    "print(x)"
   ]
  },
  {
   "cell_type": "markdown",
   "metadata": {},
   "source": [
    "data type conversion with the help of the function"
   ]
  },
  {
   "cell_type": "code",
   "execution_count": 16,
   "metadata": {},
   "outputs": [
    {
     "name": "stdout",
     "output_type": "stream",
     "text": [
      "Data Type  int32\n",
      "Data Type  float32\n"
     ]
    }
   ],
   "source": [
    "x3= np.array([2,3,4,54,5])\n",
    "print(\"Data Type \" , x3.dtype)\n",
    "x4 = np.float32(x3)\n",
    "print(\"Data Type \" , x4.dtype)"
   ]
  },
  {
   "cell_type": "code",
   "execution_count": 18,
   "metadata": {},
   "outputs": [
    {
     "name": "stdout",
     "output_type": "stream",
     "text": [
      "Data Type  int32\n",
      "Data Type  int32\n"
     ]
    }
   ],
   "source": [
    "x3= np.array([2,3,4,54,5])\n",
    "print(\"Data Type \" , x3.dtype)\n",
    "x4 = np.float32(x3)\n",
    "x5  = np.int32(x4)\n",
    "print(\"Data Type \" , x5.dtype)"
   ]
  },
  {
   "cell_type": "code",
   "execution_count": 19,
   "metadata": {},
   "outputs": [
    {
     "name": "stdout",
     "output_type": "stream",
     "text": [
      "[ 2.  3.  4. 54.  5.]\n"
     ]
    }
   ],
   "source": [
    "x= np.array([2,3,4,54,5])\n",
    "new1 =x.astype(float)\n",
    "print(new1)"
   ]
  }
 ],
 "metadata": {
  "kernelspec": {
   "display_name": "Python 3",
   "language": "python",
   "name": "python3"
  },
  "language_info": {
   "codemirror_mode": {
    "name": "ipython",
    "version": 3
   },
   "file_extension": ".py",
   "mimetype": "text/x-python",
   "name": "python",
   "nbconvert_exporter": "python",
   "pygments_lexer": "ipython3",
   "version": "3.10.6"
  },
  "orig_nbformat": 4
 },
 "nbformat": 4,
 "nbformat_minor": 2
}
