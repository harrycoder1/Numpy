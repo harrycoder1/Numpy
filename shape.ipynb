{
 "cells": [
  {
   "cell_type": "markdown",
   "metadata": {},
   "source": [
    "# Shape"
   ]
  },
  {
   "cell_type": "code",
   "execution_count": 4,
   "metadata": {},
   "outputs": [
    {
     "name": "stdout",
     "output_type": "stream",
     "text": [
      "[[1 2 3]\n",
      " [3 4 3]]\n",
      "\n",
      "(2, 3)\n"
     ]
    }
   ],
   "source": [
    "import numpy as np \n",
    "var = np.array([[1,2,3],[3,4,3]])\n",
    "\n",
    "print(var)\n",
    "print()\n",
    "print(var.shape)"
   ]
  },
  {
   "cell_type": "code",
   "execution_count": 8,
   "metadata": {},
   "outputs": [
    {
     "name": "stdout",
     "output_type": "stream",
     "text": [
      "[[[[ 1  2  3  4  5]\n",
      "   [ 2 34  5  6  7]]]]\n",
      "4\n",
      "(1, 1, 2, 5)\n"
     ]
    }
   ],
   "source": [
    "var1 = np.array([[1,2,3,4,5], [2,34,5,6,7]] , ndmin=4)\n",
    "print(var1)\n",
    "print(var1.ndim)\n",
    "print(var1.shape)"
   ]
  },
  {
   "cell_type": "markdown",
   "metadata": {},
   "source": [
    "# Reshape"
   ]
  },
  {
   "cell_type": "code",
   "execution_count": 15,
   "metadata": {},
   "outputs": [
    {
     "name": "stdout",
     "output_type": "stream",
     "text": [
      "[[1 2]\n",
      " [2 3]\n",
      " [4 4]\n",
      " [5 5]]\n",
      "2\n",
      "(4, 2)\n"
     ]
    }
   ],
   "source": [
    "var =np.array([1,2,2,3,4,4,5,5])\n",
    "x =var.reshape(4,2)\n",
    "print(x)\n",
    "print(x.ndim)\n",
    "print(x.shape)"
   ]
  },
  {
   "cell_type": "markdown",
   "metadata": {},
   "source": [
    "3D array reshape"
   ]
  },
  {
   "cell_type": "code",
   "execution_count": 16,
   "metadata": {},
   "outputs": [
    {
     "name": "stdout",
     "output_type": "stream",
     "text": [
      "[[[1 2]\n",
      "  [2 3]]\n",
      "\n",
      " [[4 4]\n",
      "  [5 5]]]\n",
      "3\n",
      "(2, 2, 2)\n"
     ]
    }
   ],
   "source": [
    "var =np.array([1,2,2,3,4,4,5,5])\n",
    "x =var.reshape(2,2,2)\n",
    "print(x)\n",
    "print(x.ndim)\n",
    "print(x.shape)"
   ]
  },
  {
   "cell_type": "code",
   "execution_count": 18,
   "metadata": {},
   "outputs": [
    {
     "name": "stdout",
     "output_type": "stream",
     "text": [
      "[[[1 2]\n",
      "  [2 3]]\n",
      "\n",
      " [[4 4]\n",
      "  [5 5]]]\n",
      "3\n",
      "(2, 2, 2)\n",
      "1\n",
      "(8,)\n"
     ]
    }
   ],
   "source": [
    "var =np.array([1,2,2,3,4,4,5,5])\n",
    "x =var.reshape(2,2,2)\n",
    "print(x)\n",
    "print(x.ndim)\n",
    "print(x.shape)\n",
    "x2  = x.reshape(-1)\n",
    "print(x2.ndim)\n",
    "print(x2.shape)"
   ]
  }
 ],
 "metadata": {
  "kernelspec": {
   "display_name": "Python 3",
   "language": "python",
   "name": "python3"
  },
  "language_info": {
   "codemirror_mode": {
    "name": "ipython",
    "version": 3
   },
   "file_extension": ".py",
   "mimetype": "text/x-python",
   "name": "python",
   "nbconvert_exporter": "python",
   "pygments_lexer": "ipython3",
   "version": "3.10.6"
  },
  "orig_nbformat": 4
 },
 "nbformat": 4,
 "nbformat_minor": 2
}
