{
 "cells": [
  {
   "cell_type": "markdown",
   "metadata": {},
   "source": [
    "# Search "
   ]
  },
  {
   "cell_type": "code",
   "execution_count": 8,
   "metadata": {},
   "outputs": [
    {
     "name": "stdout",
     "output_type": "stream",
     "text": [
      "(array([1, 4, 7], dtype=int64),)\n",
      "(array([1, 3, 4, 6, 7], dtype=int64),)\n"
     ]
    }
   ],
   "source": [
    "import numpy as np\n",
    "a =  np.array([1,2,3,4,2,25,6,2,7])\n",
    "\n",
    "x = np.where(a==2)\n",
    "x1 =np.where(a%2==0)\n",
    "\n",
    "print(x)\n",
    "print(x1)"
   ]
  },
  {
   "cell_type": "markdown",
   "metadata": {},
   "source": [
    "Search SOrt araay"
   ]
  },
  {
   "cell_type": "code",
   "execution_count": 12,
   "metadata": {},
   "outputs": [
    {
     "name": "stdout",
     "output_type": "stream",
     "text": [
      "5\n",
      "4\n"
     ]
    }
   ],
   "source": [
    "a1 =  np.array([1,2,3,4,5,6,7,8])\n",
    "\n",
    "x1 = np.searchsorted(a1 , 5 ,side=\"right\")\n",
    "x2 = np.searchsorted(a1 , 5 ,side=\"left\")\n",
    "print(x1) # give the position where the value can place in array\n",
    "print(x2) # give the position where the value can place in array"
   ]
  },
  {
   "cell_type": "code",
   "execution_count": 13,
   "metadata": {},
   "outputs": [
    {
     "name": "stdout",
     "output_type": "stream",
     "text": [
      "[4 5 7]\n"
     ]
    }
   ],
   "source": [
    "a1 =  np.array([1,2,3,4,6,7,8])\n",
    "x1 = np.searchsorted(a1 , [5,6,9] ,side=\"right\")\n",
    "x2 = np.searchsorted(a1 , 5 ,side=\"left\")\n",
    "\n",
    "print(x1)"
   ]
  },
  {
   "cell_type": "markdown",
   "metadata": {},
   "source": [
    "# SOrt array"
   ]
  },
  {
   "cell_type": "code",
   "execution_count": 16,
   "metadata": {},
   "outputs": [
    {
     "name": "stdout",
     "output_type": "stream",
     "text": [
      "[ 1  3  4  7  8 12 33 63]\n",
      "['b' 'p' 'q' 's' 't']\n",
      "['a' 'h' 'h' 'i' 'r' 's']\n"
     ]
    }
   ],
   "source": [
    "a1 =  np.array([1,12,3,33,4,63,7,8])\n",
    "c1= np.array(['s','p', 'q','t','b'])\n",
    "n1 = np.array(['h','a','r','i','s','h'])\n",
    "print(np.sort(a1))\n",
    "print(np.sort(c1))\n",
    "print(np.sort(n1))"
   ]
  },
  {
   "cell_type": "code",
   "execution_count": 17,
   "metadata": {},
   "outputs": [
    {
     "name": "stdout",
     "output_type": "stream",
     "text": [
      "[[ 1  3 12]\n",
      " [ 4 33 63]\n",
      " [ 2  7  8]]\n"
     ]
    }
   ],
   "source": [
    "a1 =  np.array([[1,12,3],[33,4,63],[7,8,2]])\n",
    "print(np.sort(a1))"
   ]
  },
  {
   "cell_type": "markdown",
   "metadata": {},
   "source": [
    "# Filter"
   ]
  },
  {
   "cell_type": "code",
   "execution_count": 19,
   "metadata": {},
   "outputs": [
    {
     "name": "stdout",
     "output_type": "stream",
     "text": [
      "['s' 'q' 't']\n"
     ]
    }
   ],
   "source": [
    "c1= np.array(['s','p', 'q','t','b'])\n",
    "   \n",
    "f = [True , False ,True ,True,False]\n",
    "new_a = c1[f]\n",
    "print(new_a)"
   ]
  }
 ],
 "metadata": {
  "kernelspec": {
   "display_name": "Python 3",
   "language": "python",
   "name": "python3"
  },
  "language_info": {
   "codemirror_mode": {
    "name": "ipython",
    "version": 3
   },
   "file_extension": ".py",
   "mimetype": "text/x-python",
   "name": "python",
   "nbconvert_exporter": "python",
   "pygments_lexer": "ipython3",
   "version": "3.10.6"
  },
  "orig_nbformat": 4
 },
 "nbformat": 4,
 "nbformat_minor": 2
}
