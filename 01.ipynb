{
 "cells": [
  {
   "cell_type": "code",
   "execution_count": 2,
   "metadata": {},
   "outputs": [
    {
     "name": "stdout",
     "output_type": "stream",
     "text": [
      "hell Im AI model enter the Message for chat with me.\n",
      "For exit enter e only\n",
      "['hello', 'hi', 'good mording ', 'nice to meet ']\n"
     ]
    }
   ],
   "source": [
    "import random \n",
    "ls= {\"hello\":[\"hello\" ,\"hi\",\"good mording \" , \"nice to meet \"] ,\"bye\":[\"i see you later\" ,\"i think you need the break\" , \"how may i hep you\"]}\n",
    "\n",
    "def engine (inp):\n",
    "    st = str(inp).lower()\n",
    "    if  st not in ls :return \"Sorry I can't Understand what you what to say\"\n",
    "    \n",
    "    datalist = ls[st]\n",
    "    \n",
    "    return( datalist)\n",
    "print(\"hell Im AI model enter the Message for chat with me.\\nFor exit enter e only\")\n",
    "while(True):\n",
    "    inp = str(input(\"\\t\\t\\t\"))\n",
    "    if(inp in ['e',\"E\"]):break\n",
    "    print(engine(inp))\n",
    "    \n",
    "\n",
    "    "
   ]
  },
  {
   "cell_type": "code",
   "execution_count": 8,
   "metadata": {},
   "outputs": [
    {
     "name": "stdout",
     "output_type": "stream",
     "text": [
      "508 ns ± 28.9 ns per loop (mean ± std. dev. of 7 runs, 1,000,000 loops each)\n"
     ]
    }
   ],
   "source": [
    "%timeit [i for i in range(1,9)]"
   ]
  },
  {
   "cell_type": "code",
   "execution_count": 11,
   "metadata": {},
   "outputs": [
    {
     "name": "stdout",
     "output_type": "stream",
     "text": [
      "609 ns ± 107 ns per loop (mean ± std. dev. of 7 runs, 1,000,000 loops each)\n"
     ]
    }
   ],
   "source": [
    "import numpy as np \n",
    "%timeit np.arange(1,9)"
   ]
  },
  {
   "cell_type": "code",
   "execution_count": 14,
   "metadata": {},
   "outputs": [
    {
     "name": "stdout",
     "output_type": "stream",
     "text": [
      "[1 2 3]\n"
     ]
    }
   ],
   "source": [
    "import numpy as np\n",
    "a = np.array([1,2,3])\n",
    "print(a)\n"
   ]
  }
 ],
 "metadata": {
  "kernelspec": {
   "display_name": "Python 3",
   "language": "python",
   "name": "python3"
  },
  "language_info": {
   "codemirror_mode": {
    "name": "ipython",
    "version": 3
   },
   "file_extension": ".py",
   "mimetype": "text/x-python",
   "name": "python",
   "nbconvert_exporter": "python",
   "pygments_lexer": "ipython3",
   "version": "3.10.6"
  },
  "orig_nbformat": 4
 },
 "nbformat": 4,
 "nbformat_minor": 2
}
